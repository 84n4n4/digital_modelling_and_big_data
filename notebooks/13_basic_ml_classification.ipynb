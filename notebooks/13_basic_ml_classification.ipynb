{
 "cells": [
  {
   "metadata": {},
   "cell_type": "markdown",
   "source": "# ML Classifiers",
   "id": "c7d0a40ce02ac7ca"
  },
  {
   "metadata": {},
   "cell_type": "code",
   "source": [
    "from matplotlib import pyplot as plt\n",
    "from sklearn.datasets import make_classification\n",
    "from sklearn.tree import DecisionTreeClassifier\n",
    "from sklearn.metrics import accuracy_score"
   ],
   "id": "492d3844336d98a2",
   "outputs": [],
   "execution_count": null
  },
  {
   "metadata": {},
   "cell_type": "markdown",
   "source": "## Create a random dataset",
   "id": "723009abbbbd37be"
  },
  {
   "metadata": {},
   "cell_type": "code",
   "source": [
    "from matplotlib import colormaps\n",
    "list(colormaps)"
   ],
   "id": "f747846b1abaac08",
   "outputs": [],
   "execution_count": null
  },
  {
   "cell_type": "code",
   "id": "initial_id",
   "metadata": {
    "collapsed": true
   },
   "source": [
    "X, y = make_classification(n_samples=100, n_features=2, n_informative=2, n_repeated=0, n_redundant=0, n_classes=2, n_clusters_per_class=2, random_state=0)\n",
    "plt.scatter(X[:, 0], X[:, 1], c=y, cmap='Spectral')\n"
   ],
   "outputs": [],
   "execution_count": null
  },
  {
   "metadata": {},
   "cell_type": "markdown",
   "source": [
    "## Instantiate a classifier\n",
    "For example a DecisionTreeClassifier"
   ],
   "id": "35f79d4c3aa4ccaa"
  },
  {
   "metadata": {},
   "cell_type": "code",
   "source": "clf = DecisionTreeClassifier(max_depth=2, random_state=42)",
   "id": "7dcce6726332ee26",
   "outputs": [],
   "execution_count": null
  },
  {
   "metadata": {},
   "cell_type": "markdown",
   "source": [
    "## Train the classifier\n",
    "Using the `fit` function on the data we want to train the classifier on."
   ],
   "id": "45eae9a03c06ae55"
  },
  {
   "metadata": {},
   "cell_type": "code",
   "source": "clf.fit(X, y)",
   "id": "f4487e10ceac4512",
   "outputs": [],
   "execution_count": null
  },
  {
   "metadata": {},
   "cell_type": "markdown",
   "source": [
    "## Predict something using the trained classifier\n",
    "Using the `predict` function of it."
   ],
   "id": "35fef6d94f411bd3"
  },
  {
   "metadata": {},
   "cell_type": "code",
   "source": "y_pred = clf.predict(X)",
   "id": "f97eaa340bb6fd10",
   "outputs": [],
   "execution_count": null
  },
  {
   "metadata": {},
   "cell_type": "markdown",
   "source": [
    "## Measure its performance\n",
    "By comparing the true labels (y) with the predicted ones (y_pred)"
   ],
   "id": "17b1326eed7b4f1a"
  },
  {
   "metadata": {},
   "cell_type": "code",
   "source": "print(accuracy_score(y, y_pred))",
   "id": "21b548c47b7d1f81",
   "outputs": [],
   "execution_count": null
  },
  {
   "metadata": {},
   "cell_type": "code",
   "source": "",
   "id": "2d442cb3dbebb1de",
   "outputs": [],
   "execution_count": null
  }
 ],
 "metadata": {
  "kernelspec": {
   "display_name": "Python 3",
   "language": "python",
   "name": "python3"
  },
  "language_info": {
   "codemirror_mode": {
    "name": "ipython",
    "version": 2
   },
   "file_extension": ".py",
   "mimetype": "text/x-python",
   "name": "python",
   "nbconvert_exporter": "python",
   "pygments_lexer": "ipython2",
   "version": "2.7.6"
  }
 },
 "nbformat": 4,
 "nbformat_minor": 5
}
