{
 "cells": [
  {
   "metadata": {},
   "cell_type": "markdown",
   "source": "# More math operators",
   "id": "47165c97e39d135c"
  },
  {
   "metadata": {},
   "cell_type": "markdown",
   "source": "Computing powers, e.g. $3^4$",
   "id": "3f6015586279346c"
  },
  {
   "metadata": {},
   "cell_type": "code",
   "source": "3**4",
   "id": "initial_id",
   "outputs": [],
   "execution_count": null
  },
  {
   "metadata": {},
   "cell_type": "markdown",
   "source": "Remainder using the modulus operator %",
   "id": "61e7531ec550e23a"
  },
  {
   "metadata": {},
   "cell_type": "code",
   "source": "5 % 2",
   "id": "f35b15606ff5f700",
   "outputs": [],
   "execution_count": null
  },
  {
   "metadata": {},
   "cell_type": "markdown",
   "source": "Floor division (round down)",
   "id": "1c88ddba34685371"
  },
  {
   "metadata": {},
   "cell_type": "code",
   "source": "10 // 3",
   "id": "33d4ebd6845fa63c",
   "outputs": [],
   "execution_count": null
  },
  {
   "metadata": {},
   "cell_type": "markdown",
   "source": "## Order of operations",
   "id": "e5d24aefbe82fbf7"
  },
  {
   "metadata": {},
   "cell_type": "markdown",
   "source": [
    "Essentially the same as in 'regular maths' - powers and roots, then multiplication and division, then substractions and additions.\n",
    "For same priority of operators, they are normally evaluated left to right."
   ],
   "id": "ccd965f5af4e6c0"
  },
  {
   "metadata": {},
   "cell_type": "code",
   "source": "3 * 4**2 - 2",
   "id": "749f0a8c1339aa98",
   "outputs": [],
   "execution_count": null
  },
  {
   "metadata": {},
   "cell_type": "markdown",
   "source": "For example $\\frac{10}{2 \\times 100} = 0.05$\n",
   "id": "975f0e9e06317d42"
  },
  {
   "metadata": {},
   "cell_type": "code",
   "source": "10/2*100",
   "id": "cd4ec99cd1d2ebc",
   "outputs": [],
   "execution_count": null
  },
  {
   "metadata": {},
   "cell_type": "markdown",
   "source": "This is incorrect, due to left to right order of evaluation.",
   "id": "9242d7a2f14bceb7"
  },
  {
   "metadata": {},
   "cell_type": "code",
   "source": "10/2/100",
   "id": "12115178f2c8563b",
   "outputs": [],
   "execution_count": null
  },
  {
   "metadata": {},
   "cell_type": "markdown",
   "source": "While the result is correct, this is difficult to read.",
   "id": "22cb064f60b7bd36"
  },
  {
   "metadata": {},
   "cell_type": "code",
   "source": "10/(2*100)",
   "id": "f40ba4b42dbba263",
   "outputs": [],
   "execution_count": null
  },
  {
   "metadata": {},
   "cell_type": "markdown",
   "source": "**Exersice**: Calculate the result of $2^{\\frac{10 \\times 2.7}{2 \\times 4}} \\times 12$",
   "id": "569a7fcd325501c"
  },
  {
   "metadata": {},
   "cell_type": "code",
   "source": "",
   "id": "cc3710da17455860",
   "outputs": [],
   "execution_count": null
  }
 ],
 "metadata": {
  "kernelspec": {
   "display_name": "Python 3",
   "language": "python",
   "name": "python3"
  },
  "language_info": {
   "codemirror_mode": {
    "name": "ipython",
    "version": 2
   },
   "file_extension": ".py",
   "mimetype": "text/x-python",
   "name": "python",
   "nbconvert_exporter": "python",
   "pygments_lexer": "ipython2",
   "version": "2.7.6"
  }
 },
 "nbformat": 4,
 "nbformat_minor": 5
}
