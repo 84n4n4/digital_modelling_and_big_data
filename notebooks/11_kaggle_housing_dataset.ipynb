{
 "cells": [
  {
   "metadata": {},
   "cell_type": "markdown",
   "source": "# Kaggle Housing data",
   "id": "11f2baee994c429d"
  },
  {
   "metadata": {},
   "cell_type": "markdown",
   "source": "The house prices dataset is an open dataset available from [kaggle](https://www.kaggle.com/competitions/house-prices-advanced-regression-techniques/data). (you dont have to download it, its alread in the data folder).",
   "id": "a0be24fae85fb106"
  },
  {
   "metadata": {},
   "cell_type": "code",
   "source": [
    "import pandas\n",
    "\n",
    "df = pandas.read_csv('../data/kaggle_house_prices/train.csv', index_col=0)\n",
    "df"
   ],
   "id": "fc1420dbeb3140c2",
   "outputs": [],
   "execution_count": null
  },
  {
   "metadata": {},
   "cell_type": "markdown",
   "source": "Each row represents the sale of a house, the first column is just a unique id for each sale, while all other columns contain data about that house. Some of the data is numeric, some of it are strings representing categories.",
   "id": "af081dfe153f6b2c"
  },
  {
   "metadata": {},
   "cell_type": "code",
   "source": "df.columns",
   "id": "2c26283999419b0b",
   "outputs": [],
   "execution_count": null
  },
  {
   "metadata": {},
   "cell_type": "markdown",
   "source": "For example, GrLivArea is the size in square feet of the living space (sorry, it's a US dataset, so were working in hamburgers per bald eagle). Lets visualize the lotSize against the SalePrice",
   "id": "4e2791aaa624fce1"
  },
  {
   "metadata": {},
   "cell_type": "code",
   "source": [
    "import matplotlib.pyplot as plt\n",
    "\n",
    "df.plot.scatter(x='GrLivArea', y='SalePrice')\n",
    "plt.show()"
   ],
   "id": "b56ab3e3b6f3f2c2",
   "outputs": [],
   "execution_count": null
  },
  {
   "metadata": {},
   "cell_type": "markdown",
   "source": "While we do see that this is correlated, a model/predictor solely based on the living space would work so well.",
   "id": "3d24d542dd1a77e0"
  },
  {
   "metadata": {},
   "cell_type": "markdown",
   "source": "YearBuilt is the year the housing was built",
   "id": "6e2b089afce2ccde"
  },
  {
   "metadata": {},
   "cell_type": "code",
   "source": [
    "df.plot.scatter(x='YearBuilt', y='SalePrice')\n",
    "plt.show()"
   ],
   "id": "7cdc75ea39b3fa73",
   "outputs": [],
   "execution_count": null
  },
  {
   "metadata": {},
   "cell_type": "markdown",
   "source": "Lets get some statistics about the data",
   "id": "5d140fb082bd963d"
  },
  {
   "metadata": {},
   "cell_type": "code",
   "source": "df.describe()",
   "id": "fd69410e3ecdfd23",
   "outputs": [],
   "execution_count": null
  },
  {
   "metadata": {},
   "cell_type": "markdown",
   "source": [
    "This of course only returns us the numerical columns, because it wouldnt make sense to get the mean of the categorical columns containing text.\n",
    "However, theres other methods to look at those, for example, counting the number of occurrences of each category in these columns."
   ],
   "id": "6d20e75fefc2032d"
  },
  {
   "metadata": {},
   "cell_type": "code",
   "source": [
    "categorical_cols = ['Alley',\n",
    " 'BldgType',\n",
    " 'BsmtCond',\n",
    " 'BsmtExposure',\n",
    " 'BsmtFinType1',\n",
    " 'BsmtFinType2',\n",
    " 'BsmtQual',\n",
    " 'CentralAir',\n",
    " 'Condition1',\n",
    " 'Condition2',\n",
    " 'Electrical',\n",
    " 'ExterCond',\n",
    " 'ExterQual',\n",
    " 'Exterior1st',\n",
    " 'Exterior2nd',\n",
    " 'Fence',\n",
    " 'FireplaceQu',\n",
    " 'Foundation',\n",
    " 'Functional',\n",
    " 'GarageCond',\n",
    " 'GarageFinish',\n",
    " 'GarageQual',\n",
    " 'GarageType',\n",
    " 'Heating',\n",
    " 'HeatingQC',\n",
    " 'HouseStyle',\n",
    " 'KitchenQual',\n",
    " 'LandContour',\n",
    " 'LandSlope',\n",
    " 'LotConfig',\n",
    " 'LotShape',\n",
    " 'MSZoning',\n",
    " 'MasVnrType',\n",
    " 'MiscFeature',\n",
    " 'Neighborhood',\n",
    " 'PavedDrive',\n",
    " 'PoolQC',\n",
    " 'RoofMatl',\n",
    " 'RoofStyle',\n",
    " 'SaleCondition',\n",
    " 'SaleType',\n",
    " 'Street',\n",
    " 'Utilities']\n",
    "\n",
    "df[categorical_cols].describe()\n"
   ],
   "id": "dad55fc0448f7c5f",
   "outputs": [],
   "execution_count": null
  },
  {
   "metadata": {},
   "cell_type": "code",
   "source": "df['BldgType'].value_counts()",
   "id": "b76a754754f612d2",
   "outputs": [],
   "execution_count": null
  },
  {
   "metadata": {},
   "cell_type": "code",
   "source": "",
   "id": "223a0ab54fd6b2e1",
   "outputs": [],
   "execution_count": null
  }
 ],
 "metadata": {
  "kernelspec": {
   "display_name": "Python 3",
   "language": "python",
   "name": "python3"
  },
  "language_info": {
   "codemirror_mode": {
    "name": "ipython",
    "version": 2
   },
   "file_extension": ".py",
   "mimetype": "text/x-python",
   "name": "python",
   "nbconvert_exporter": "python",
   "pygments_lexer": "ipython2",
   "version": "2.7.6"
  }
 },
 "nbformat": 4,
 "nbformat_minor": 5
}
