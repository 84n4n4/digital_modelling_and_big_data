{
 "cells": [
  {
   "metadata": {},
   "cell_type": "markdown",
   "source": "# Exercise 2 (TAWES part)\n",
   "id": "aca91401c24146be"
  },
  {
   "metadata": {},
   "cell_type": "markdown",
   "source": "**Task** Load the TAWES vienna csv as a pandas dataframe.",
   "id": "e4c569c7342054b4"
  },
  {
   "metadata": {},
   "cell_type": "code",
   "source": [
    "import pandas\n",
    "\n",
    "# load the dataset from ../../data/tawes/Messstationen Tagesdaten v2 Datensatz_18730101_19921231_wien.csv\n"
   ],
   "id": "770cc51e410b0ee4",
   "outputs": [],
   "execution_count": null
  },
  {
   "metadata": {},
   "cell_type": "markdown",
   "source": "**Task** Change the index to a datetime index using the 'time' column.\n",
   "id": "1489d44853bd3436"
  },
  {
   "metadata": {},
   "cell_type": "code",
   "outputs": [],
   "execution_count": null,
   "source": "# see 11_pandas_tawes.ipynb or 12_data_visualization.ipynb\n",
   "id": "8d1ba26896c24831"
  },
  {
   "metadata": {},
   "cell_type": "markdown",
   "source": "**Task** Resample the dataframe to yearly means.\n",
   "id": "f3d81f3f8466dd8"
  },
  {
   "metadata": {},
   "cell_type": "code",
   "outputs": [],
   "execution_count": null,
   "source": "",
   "id": "fb470ca538c24148"
  },
  {
   "metadata": {},
   "cell_type": "markdown",
   "source": "**Task** Slice/Filter the dataframe to only contain dates between 1890 and 1990\n",
   "id": "b6c6bc5095b4285a"
  },
  {
   "metadata": {},
   "cell_type": "code",
   "outputs": [],
   "execution_count": null,
   "source": "",
   "id": "7258d25bf62c3002"
  },
  {
   "metadata": {},
   "cell_type": "markdown",
   "source": "**Task** Plot the yearly mean temperatures ('tl_mittel') on the y axis and time on the x axis.\n",
   "id": "f121db5878b049c4"
  },
  {
   "metadata": {},
   "cell_type": "code",
   "outputs": [],
   "execution_count": null,
   "source": "",
   "id": "b1d44efca6ea6bf0"
  }
 ],
 "metadata": {
  "kernelspec": {
   "display_name": "Python 3",
   "language": "python",
   "name": "python3"
  },
  "language_info": {
   "codemirror_mode": {
    "name": "ipython",
    "version": 2
   },
   "file_extension": ".py",
   "mimetype": "text/x-python",
   "name": "python",
   "nbconvert_exporter": "python",
   "pygments_lexer": "ipython2",
   "version": "2.7.6"
  }
 },
 "nbformat": 4,
 "nbformat_minor": 5
}
