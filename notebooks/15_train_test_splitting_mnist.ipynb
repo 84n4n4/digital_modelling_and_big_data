{
 "cells": [
  {
   "metadata": {},
   "cell_type": "code",
   "source": [
    "\n",
    "import matplotlib.pyplot as plt\n",
    "import numpy as np\n",
    "import sklearn.metrics\n",
    "\n",
    "from sklearn.datasets import fetch_openml\n",
    "import pandas\n",
    "\n",
    "\n",
    "from sklearn.metrics import classification_report, accuracy_score\n",
    "from sklearn.ensemble import RandomForestClassifier\n",
    "from sklearn.linear_model import LogisticRegression\n",
    "from sklearn.svm import SVC\n",
    "from sklearn.tree import DecisionTreeClassifier\n",
    "from sklearn.model_selection import train_test_split\n"
   ],
   "id": "e5cd4db05f9995e4",
   "outputs": [],
   "execution_count": null
  },
  {
   "metadata": {},
   "cell_type": "code",
   "source": [
    "# https://www.openml.org/search?type=data&sort=runs&id=554&status=active\n",
    "# https://www.openml.org/d/554\n",
    "X, y = fetch_openml(\"mnist_784\", version=1, return_X_y=True, as_frame=False)"
   ],
   "id": "aa4f6e1dd0536fb6",
   "outputs": [],
   "execution_count": null
  },
  {
   "metadata": {},
   "cell_type": "code",
   "source": "X.shape\n",
   "id": "initial_id",
   "outputs": [],
   "execution_count": null
  },
  {
   "metadata": {},
   "cell_type": "code",
   "source": "X[0].shape\n",
   "id": "b660bde9fe728467",
   "outputs": [],
   "execution_count": null
  },
  {
   "metadata": {},
   "cell_type": "code",
   "source": "plt.imshow(X[1].reshape(28,28))\n",
   "id": "f440904510cbbfa6",
   "outputs": [],
   "execution_count": null
  },
  {
   "metadata": {},
   "cell_type": "code",
   "source": [
    "for row in X[1].reshape(28,28):\n",
    "    print(' '.join([str(a).rjust(3) for a in row]))\n"
   ],
   "id": "7834dfb09468adde",
   "outputs": [],
   "execution_count": null
  },
  {
   "metadata": {},
   "cell_type": "code",
   "source": "print(' '.join([str(a).rjust(3) for a in X[1]]))",
   "id": "f8775612c4adacee",
   "outputs": [],
   "execution_count": null
  },
  {
   "metadata": {},
   "cell_type": "code",
   "source": [
    "pandas.Series(y).value_counts().sort_index().plot(kind='bar')\n",
    "\n"
   ],
   "id": "5e3209e4cb544682",
   "outputs": [],
   "execution_count": null
  },
  {
   "metadata": {},
   "cell_type": "code",
   "source": "index_sevens_and_ones = np.where((y == '7') | (y=='1'))[0]\n",
   "id": "3842e1dbd466caff",
   "outputs": [],
   "execution_count": null
  },
  {
   "metadata": {},
   "cell_type": "code",
   "source": [
    "Xb = X[index_sevens_and_ones]\n",
    "yb = y[index_sevens_and_ones]\n"
   ],
   "id": "7401662b6f9cfcce",
   "outputs": [],
   "execution_count": null
  },
  {
   "metadata": {},
   "cell_type": "code",
   "source": [
    "pandas.Series(yb).value_counts().sort_index().plot(kind='bar')\n",
    "plt.show() \n"
   ],
   "id": "76bc0cb029ab9f8f",
   "outputs": [],
   "execution_count": null
  },
  {
   "metadata": {},
   "cell_type": "code",
   "source": [
    "import sklearn\n",
    "\n",
    "clf = DecisionTreeClassifier(max_depth=5, random_state=42)\n",
    "clf.fit(Xb, yb)\n",
    "y_pred = clf.predict(Xb)\n",
    "print(accuracy_score(yb, y_pred))\n",
    "print(sklearn.metrics.precision_score(yb.astype(int), y_pred.astype(int)))\n",
    "print(sklearn.metrics.recall_score(yb.astype(int), y_pred.astype(int)))"
   ],
   "id": "ac1d18b67cc85842",
   "outputs": [],
   "execution_count": null
  },
  {
   "metadata": {},
   "cell_type": "code",
   "source": [
    "yb\n",
    "y_pred"
   ],
   "id": "d86e9c26a1bcb3f6",
   "outputs": [],
   "execution_count": null
  },
  {
   "metadata": {},
   "cell_type": "code",
   "source": [
    "\n",
    "X_train, X_test, y_train, y_test = train_test_split(Xb, yb, test_size=0.25, random_state=42)\n",
    "clf_n = DecisionTreeClassifier(max_depth=5, random_state=42)\n",
    "clf_n.fit(X_train, y_train)\n",
    "y_pred_n = clf_n.predict(X_test)\n",
    "print(accuracy_score(y_test, y_pred_n))\n",
    "print(sklearn.metrics.precision_score(yb.astype(int), y_pred.astype(int)))\n",
    "print(sklearn.metrics.recall_score(yb.astype(int), y_pred.astype(int)))"
   ],
   "id": "a620b6312f8236ed",
   "outputs": [],
   "execution_count": null
  },
  {
   "metadata": {},
   "cell_type": "code",
   "source": "",
   "id": "671a831f889cc5bd",
   "outputs": [],
   "execution_count": null
  }
 ],
 "metadata": {
  "kernelspec": {
   "display_name": "Python 3",
   "language": "python",
   "name": "python3"
  },
  "language_info": {
   "codemirror_mode": {
    "name": "ipython",
    "version": 2
   },
   "file_extension": ".py",
   "mimetype": "text/x-python",
   "name": "python",
   "nbconvert_exporter": "python",
   "pygments_lexer": "ipython2",
   "version": "2.7.6"
  }
 },
 "nbformat": 4,
 "nbformat_minor": 5
}
