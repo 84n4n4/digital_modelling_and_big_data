{
 "cells": [
  {
   "metadata": {},
   "cell_type": "code",
   "source": [
    "\n",
    "import matplotlib.pyplot as plt\n",
    "import numpy as np\n",
    "\n",
    "from sklearn.datasets import fetch_openml\n",
    "import pandas\n",
    "\n",
    "\n",
    "from sklearn.metrics import classification_report, accuracy_score\n",
    "from sklearn.ensemble import RandomForestClassifier\n",
    "from sklearn.linear_model import LogisticRegression\n",
    "from sklearn.svm import SVC\n",
    "from sklearn.tree import DecisionTreeClassifier\n",
    "from sklearn.model_selection import train_test_split\n"
   ],
   "id": "e5cd4db05f9995e4",
   "outputs": [],
   "execution_count": null
  },
  {
   "metadata": {},
   "cell_type": "code",
   "source": [
    "# https://www.openml.org/search?type=data&sort=runs&id=554&status=active\n",
    "# https://www.openml.org/d/554\n",
    "X, y = fetch_openml(\"mnist_784\", version=1, return_X_y=True, as_frame=False)"
   ],
   "id": "aa4f6e1dd0536fb6",
   "outputs": [],
   "execution_count": null
  },
  {
   "metadata": {},
   "cell_type": "code",
   "source": "X.shape\n",
   "id": "initial_id",
   "outputs": [],
   "execution_count": null
  },
  {
   "metadata": {},
   "cell_type": "code",
   "source": "X[0].shape\n",
   "id": "b660bde9fe728467",
   "outputs": [],
   "execution_count": null
  },
  {
   "metadata": {},
   "cell_type": "code",
   "source": "plt.imshow(X[1].reshape(28,28))\n",
   "id": "f440904510cbbfa6",
   "outputs": [],
   "execution_count": null
  },
  {
   "metadata": {},
   "cell_type": "code",
   "source": [
    "pandas.Series(y).value_counts().sort_index().plot(kind='bar')\n",
    "\n"
   ],
   "id": "5e3209e4cb544682",
   "outputs": [],
   "execution_count": null
  },
  {
   "metadata": {},
   "cell_type": "code",
   "source": [
    "index_sevens = np.where(y == '7')[0]\n",
    "index_ones = np.where(y == '1')[0]\n"
   ],
   "id": "d37e1b1e34d10350",
   "outputs": [],
   "execution_count": null
  },
  {
   "metadata": {},
   "cell_type": "code",
   "source": [
    "# downsample '1'\n",
    "\n",
    "index_ones_sample = np.random.choice(index_ones, size=10)"
   ],
   "id": "15a4057b07cf763b",
   "outputs": [],
   "execution_count": null
  },
  {
   "metadata": {},
   "cell_type": "code",
   "source": [
    "# balanced\n",
    "sample_size = min(index_ones.shape[0], index_sevens.shape[0])\n",
    "\n",
    "Xb = X[np.concatenate((index_sevens[:sample_size], index_ones[:sample_size]))]\n",
    "yb = y[np.concatenate((index_sevens[:sample_size], index_ones[:sample_size]))]\n",
    "\n",
    "# imbalanced\n",
    "Xn = X[np.concatenate((index_sevens, index_ones_sample))]\n",
    "yn = y[np.concatenate((index_sevens, index_ones_sample))]"
   ],
   "id": "7401662b6f9cfcce",
   "outputs": [],
   "execution_count": null
  },
  {
   "metadata": {},
   "cell_type": "code",
   "source": [
    "pandas.Series(yb).value_counts().sort_index().plot(kind='bar')\n",
    "plt.show() \n",
    "pandas.Series(yn).value_counts().sort_index().plot(kind='bar')\n",
    "plt.show()\n"
   ],
   "id": "76bc0cb029ab9f8f",
   "outputs": [],
   "execution_count": null
  },
  {
   "metadata": {},
   "cell_type": "code",
   "source": [
    "# balanced model\n",
    "\n",
    "\n",
    "X_train_b, X_test_b, y_train_b, y_test_b = train_test_split(Xb, yb, test_size=0.25, random_state=42, stratify=yb)\n",
    "clf_b = DecisionTreeClassifier(max_depth=1, random_state=42)\n",
    "clf_b.fit(X_train_b, y_train_b)\n",
    "y_pred_b = clf_b.predict(X_test_b)\n",
    "print(accuracy_score(y_test_b, y_pred_b))"
   ],
   "id": "ac1d18b67cc85842",
   "outputs": [],
   "execution_count": null
  },
  {
   "metadata": {},
   "cell_type": "code",
   "source": "pandas.Series(y_test_b).value_counts().sort_index().plot(kind='bar')\n",
   "id": "380eae949e73293e",
   "outputs": [],
   "execution_count": null
  },
  {
   "metadata": {},
   "cell_type": "code",
   "source": [
    "# IMbalanced model\n",
    "\n",
    "X_train_n, X_test_n, y_train_n, y_test_n = train_test_split(Xn, yn, test_size=0.25, random_state=42)\n",
    "clf_n = DecisionTreeClassifier(max_depth=1, random_state=42)\n",
    "clf_n.fit(X_train_n, y_train_n)\n",
    "y_pred_n = clf_n.predict(X_test_n)\n",
    "print(accuracy_score(y_test_n, y_pred_n))"
   ],
   "id": "a620b6312f8236ed",
   "outputs": [],
   "execution_count": null
  },
  {
   "metadata": {},
   "cell_type": "code",
   "source": [
    "y_pred = clf_n.predict(X_test_b)\n",
    "print(accuracy_score(y_test_b, y_pred))"
   ],
   "id": "786bfc9c81fbd865",
   "outputs": [],
   "execution_count": null
  },
  {
   "metadata": {},
   "cell_type": "code",
   "source": "print(classification_report(y_test_b, y_pred))\n",
   "id": "ef5ba5dfc4b17279",
   "outputs": [],
   "execution_count": null
  },
  {
   "metadata": {},
   "cell_type": "code",
   "source": "",
   "id": "8af86cd22faf5142",
   "outputs": [],
   "execution_count": null
  }
 ],
 "metadata": {
  "kernelspec": {
   "display_name": "Python 3",
   "language": "python",
   "name": "python3"
  },
  "language_info": {
   "codemirror_mode": {
    "name": "ipython",
    "version": 2
   },
   "file_extension": ".py",
   "mimetype": "text/x-python",
   "name": "python",
   "nbconvert_exporter": "python",
   "pygments_lexer": "ipython2",
   "version": "2.7.6"
  }
 },
 "nbformat": 4,
 "nbformat_minor": 5
}
