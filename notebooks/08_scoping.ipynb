{
 "cells": [
  {
   "metadata": {},
   "cell_type": "markdown",
   "source": "# Scoping",
   "id": "dafac78f59abac45"
  },
  {
   "metadata": {},
   "cell_type": "markdown",
   "source": "Where are variables visible, usable, where do modifications take effect.\n",
   "id": "4d25200e0efe7922"
  },
  {
   "metadata": {},
   "cell_type": "markdown",
   "source": "## Scoping for functions",
   "id": "1a0712ff3bc7d4ff"
  },
  {
   "metadata": {},
   "cell_type": "code",
   "source": [
    "a = 1\n",
    "\n",
    "def set_the_number():\n",
    "    a = 10\n",
    "    \n",
    "print(a)\n",
    "set_the_number()\n",
    "print(a)"
   ],
   "id": "dbb5377969680cac",
   "outputs": [],
   "execution_count": null
  },
  {
   "metadata": {},
   "cell_type": "code",
   "source": [
    "\n",
    "a = 1\n",
    "\n",
    "def increment_a_number(a):\n",
    "    a = a + 1\n",
    "    return a\n",
    "    \n",
    "print(a)\n",
    "print(increment_a_number(a))\n",
    "print(a)"
   ],
   "id": "bf05008ed1001feb",
   "outputs": [],
   "execution_count": null
  },
  {
   "metadata": {},
   "cell_type": "code",
   "source": [
    "a = 1\n",
    "\n",
    "def increment_the_number():\n",
    "    a = a + 1\n",
    "    return a\n",
    "    \n",
    "print(increment_the_number())"
   ],
   "id": "def8662d7324fd74",
   "outputs": [],
   "execution_count": null
  },
  {
   "metadata": {},
   "cell_type": "markdown",
   "source": "Reusing names in your functions that are already defined in the outside scope works, but generally should be avoided. This is called shadowing and most IDEs will warn you about it.",
   "id": "d83058076554c0dc"
  },
  {
   "metadata": {},
   "cell_type": "code",
   "source": [
    "a = 1\n",
    "\n",
    "def increment_the_number(a):\n",
    "    a = a + 1\n",
    "    return a\n",
    "    \n",
    "print(increment_the_number(1))\n",
    "print(a)"
   ],
   "id": "ddc689d5f45aa574",
   "outputs": [],
   "execution_count": null
  },
  {
   "metadata": {},
   "cell_type": "markdown",
   "source": "This is where the mutability / immutability of a type comes back into play. Some types are immutable, some are mutable.",
   "id": "229781cb3a994667"
  },
  {
   "metadata": {},
   "cell_type": "code",
   "source": [
    "a = [1, 2, 3]\n",
    "\n",
    "def append_5(x):\n",
    "    x.append(5)\n",
    "    return x\n",
    "    \n",
    "print(a)\n",
    "print(append_5(a))\n",
    "print(a)"
   ],
   "id": "1a28994d15abd242",
   "outputs": [],
   "execution_count": null
  },
  {
   "metadata": {},
   "cell_type": "markdown",
   "source": "Lists are mutable (so are dict and set, while int, float, string are not!)",
   "id": "2ca3d70dc78786b4"
  },
  {
   "metadata": {},
   "cell_type": "code",
   "source": [
    "a = [1, 2, 3]\n",
    "\n",
    "def append_5(x):\n",
    "    x.append(5)\n",
    "    \n",
    "print(a)\n",
    "append_5(a)\n",
    "print(a)"
   ],
   "id": "3b698013f8b87b42",
   "outputs": [],
   "execution_count": null
  },
  {
   "metadata": {},
   "cell_type": "markdown",
   "source": "Back to the `[:]` slice that returns the full list.",
   "id": "cfa1b79350478d69"
  },
  {
   "metadata": {},
   "cell_type": "code",
   "source": [
    "a = [1, 2, 3]\n",
    "\n",
    "def append_5(x):\n",
    "    x.append(5)\n",
    "    \n",
    "print(a)\n",
    "append_5(a[:])\n",
    "print(a)"
   ],
   "id": "7d72a91591201dce",
   "outputs": [],
   "execution_count": null
  },
  {
   "metadata": {},
   "cell_type": "markdown",
   "source": "But take care with this, it only works for the level you specified - in the example below, the outer array is copied with `[:]` but the inner ones are still references to the original arrays.",
   "id": "5ecd8bef1a568a62"
  },
  {
   "metadata": {},
   "cell_type": "code",
   "source": [
    "a = [[1], [2], [3]]\n",
    "\n",
    "def append_5(x):\n",
    "    for i in x:\n",
    "        i.append(5)\n",
    "    \n",
    "print(a)\n",
    "append_5(a[:])\n",
    "print(a)"
   ],
   "id": "1acc346a30f514d3",
   "outputs": [],
   "execution_count": null
  },
  {
   "metadata": {},
   "cell_type": "markdown",
   "source": "If you really want to copy a complex datastructure to keep the original while modifying a copy, you will need more sophisticated helper methods like deepcopy for example",
   "id": "386c7ef4435c641a"
  },
  {
   "metadata": {},
   "cell_type": "code",
   "source": [
    "import copy \n",
    "\n",
    "a = [[1], [2], [3]]\n",
    "\n",
    "def append_5(x):\n",
    "    for i in x:\n",
    "        i.append(5)\n",
    "    \n",
    "print(a)\n",
    "append_5(copy.deepcopy(a))\n",
    "print(a)"
   ],
   "id": "3977f87e50d171fa",
   "outputs": [],
   "execution_count": null
  },
  {
   "metadata": {},
   "cell_type": "markdown",
   "source": "## Scoping in control statements",
   "id": "45ccd1d026ba4594"
  },
  {
   "metadata": {},
   "cell_type": "markdown",
   "source": "Python cannot determine at what point and if x is going to be assigned before actually running the program. Most IDEs however perform some static checks that will actually warn you about accessing a variable that may not have been initialized.",
   "id": "1e91420f0cd8facc"
  },
  {
   "metadata": {},
   "cell_type": "code",
   "source": [
    "a = 10\n",
    "if a > 10:\n",
    "    x = 12\n",
    "print(x)"
   ],
   "id": "5dc22f9a24a63c4",
   "outputs": [],
   "execution_count": null
  },
  {
   "metadata": {},
   "cell_type": "code",
   "source": [
    "import math\n",
    "\n",
    "a = []\n",
    "for number in a:\n",
    "    number_sqrt = math.sqrt(number)\n",
    "print(number_sqrt)"
   ],
   "id": "36a257c8072c861",
   "outputs": [],
   "execution_count": null
  },
  {
   "metadata": {},
   "cell_type": "markdown",
   "source": [
    "### Python conventions (actually generall good programming advice for any language)\n",
    "- Use global variables sparingly\n",
    "- Functions should not have side effects\n",
    "- It should be clear to the reader that a function modifies something\n",
    "- Avoid shadowing of names (also function names)"
   ],
   "id": "ae75b83a14e00e3e"
  },
  {
   "metadata": {},
   "cell_type": "markdown",
   "source": "",
   "id": "574e22a77252eea0"
  },
  {
   "metadata": {},
   "cell_type": "code",
   "source": [
    "# bad examples\n",
    "\n",
    "a = 5\n",
    "def add():\n",
    "    global a\n",
    "    a += 4\n",
    "\n",
    "print(a)\n",
    "add()\n",
    "print(a)\n"
   ],
   "id": "3c3bc6efb5cd408b",
   "outputs": [],
   "execution_count": null
  },
  {
   "metadata": {},
   "cell_type": "code",
   "source": [
    "import math as m\n",
    "\n",
    "def pythagoras(m, n):\n",
    "    return m.sqrt(m.pow(n, 2) + m.pow(m, 2))\n",
    "\n",
    "print(pythagoras(4,5))"
   ],
   "id": "cb0bca5e10f2464",
   "outputs": [],
   "execution_count": null
  },
  {
   "metadata": {},
   "cell_type": "code",
   "source": "",
   "id": "6ffe297faef3a8f5",
   "outputs": [],
   "execution_count": null
  }
 ],
 "metadata": {
  "kernelspec": {
   "display_name": "Python 3",
   "language": "python",
   "name": "python3"
  },
  "language_info": {
   "codemirror_mode": {
    "name": "ipython",
    "version": 2
   },
   "file_extension": ".py",
   "mimetype": "text/x-python",
   "name": "python",
   "nbconvert_exporter": "python",
   "pygments_lexer": "ipython2",
   "version": "2.7.6"
  }
 },
 "nbformat": 4,
 "nbformat_minor": 5
}
